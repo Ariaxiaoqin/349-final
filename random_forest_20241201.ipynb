{
 "cells": [
  {
   "cell_type": "code",
   "execution_count": 1,
   "id": "5fa65546-9057-4aa7-9a41-e2c6822e79b7",
   "metadata": {},
   "outputs": [],
   "source": [
    "from sklearn.compose import ColumnTransformer\n",
    "from sklearn.preprocessing import OneHotEncoder, StandardScaler\n",
    "from sklearn.model_selection import train_test_split\n",
    "import joblib\n",
    "from sklearn.metrics import mean_absolute_error, mean_squared_error, r2_score\n",
    "import numpy as np\n",
    "import pandas as pd\n",
    "import openpyxl\n",
    "from sklearn.model_selection import train_test_split\n",
    "from sklearn.preprocessing import OneHotEncoder, StandardScaler\n",
    "from sklearn.compose import ColumnTransformer\n",
    "from sklearn.pipeline import Pipeline\n",
    "from sklearn.ensemble import RandomForestRegressor\n",
    "import torch\n",
    "import torch.nn as nn\n",
    "import torch.optim as optim\n",
    "import numpy as np\n",
    "import matplotlib\n",
    "import matplotlib.pyplot as plt\n",
    "from tqdm import tqdm"
   ]
  },
  {
   "cell_type": "code",
   "execution_count": 2,
   "id": "fdbc466c-553f-4718-94f1-0300a7d1c1fd",
   "metadata": {},
   "outputs": [],
   "source": [
    "class DecisionTreeNode:\n",
    "    def __init__(self):\n",
    "        self.feature_index = None  # Index of the feature to split on\n",
    "        self.threshold = None  # Threshold value for splitting\n",
    "        self.left = None  # Left child node\n",
    "        self.right = None  # Right child node\n",
    "        self.value = None  # Prediction value (for leaf nodes)"
   ]
  },
  {
   "cell_type": "code",
   "execution_count": 3,
   "id": "51e7dde1-e0d6-489d-9740-55d0ec7fa2a1",
   "metadata": {},
   "outputs": [],
   "source": [
    "def mse(y):\n",
    "    \"\"\"Mean Squared Error.\"\"\"\n",
    "    return np.mean((y - np.mean(y)) ** 2)\n",
    "\n",
    "def mse_pred_gt(y_true, y_pred):\n",
    "    \"\"\"Mean Squared Error calculation.\"\"\"\n",
    "    return np.mean((y_true - y_pred) ** 2)\n",
    "    \n",
    "def split_data(X, y, feature_index, threshold):\n",
    "    \"\"\"Split the dataset based on a feature and threshold.\"\"\"\n",
    "    left_mask = X[:, feature_index] <= threshold\n",
    "    right_mask = ~left_mask\n",
    "    return X[left_mask], X[right_mask], y[left_mask], y[right_mask]\n",
    "\n",
    "def best_split(X, y):\n",
    "    \"\"\"Find the best feature and threshold to split the data.\"\"\"\n",
    "    best_feature, best_threshold, best_mse = None, None, float('inf')\n",
    "    for feature_index in range(X.shape[1]):\n",
    "        thresholds = np.unique(X[:, feature_index])\n",
    "        for threshold in thresholds:\n",
    "            _, _, y_left, y_right = split_data(X, y, feature_index, threshold)\n",
    "            if len(y_left) == 0 or len(y_right) == 0:\n",
    "                continue\n",
    "            mse_split = (len(y_left) * mse(y_left) + len(y_right) * mse(y_right)) / len(y)\n",
    "            if mse_split < best_mse:\n",
    "                best_feature, best_threshold, best_mse = feature_index, threshold, mse_split\n",
    "    return best_feature, best_threshold"
   ]
  },
  {
   "cell_type": "code",
   "execution_count": 4,
   "id": "222d9038-294e-4e64-a055-cefa4de3af90",
   "metadata": {},
   "outputs": [],
   "source": [
    "def build_tree(X, y, depth=0, max_depth=5):\n",
    "    \"\"\"Build a decision tree recursively.\"\"\"\n",
    "    node = DecisionTreeNode()\n",
    "    if depth == max_depth or len(np.unique(y)) == 1:  # Stop splitting at max depth or pure leaf\n",
    "        node.value = np.mean(y)\n",
    "        return node\n",
    "\n",
    "    feature_index, threshold = best_split(X, y)\n",
    "    if feature_index is None:  # No valid split\n",
    "        node.value = np.mean(y)\n",
    "        return node\n",
    "\n",
    "    node.feature_index = feature_index\n",
    "    node.threshold = threshold\n",
    "    X_left, X_right, y_left, y_right = split_data(X, y, feature_index, threshold)\n",
    "    node.left = build_tree(X_left, y_left, depth + 1, max_depth)\n",
    "    node.right = build_tree(X_right, y_right, depth + 1, max_depth)\n",
    "    return node"
   ]
  },
  {
   "cell_type": "code",
   "execution_count": 23,
   "id": "54f05aea-d83c-4815-8037-2ae4263e50fa",
   "metadata": {},
   "outputs": [],
   "source": [
    "def predict_tree(node, X):\n",
    "    \"\"\"Predict with a single decision tree.\"\"\"\n",
    "    # if node.value is not None:\n",
    "    #     return node.value\n",
    "    # if X[node.feature_index] <= node.threshold:\n",
    "    #     return predict_tree(node.left, X)\n",
    "    # return predict_tree(node.right, X)\n",
    "    if len(X.shape) == 1:  # Single row\n",
    "        if node.value is not None:  # Leaf node\n",
    "            return node.value\n",
    "        if X[node.feature_index] <= node.threshold:\n",
    "            return predict_tree(node.left, X)\n",
    "        else:\n",
    "            return predict_tree(node.right, X)\n",
    "    else:  # Batch of rows\n",
    "        return np.array([predict_tree(node, row) for row in X])\n"
   ]
  },
  {
   "cell_type": "code",
   "execution_count": 24,
   "id": "34204437-0840-4dd5-b82b-495ca4961da8",
   "metadata": {},
   "outputs": [],
   "source": [
    "class RandomForest:\n",
    "    def __init__(self, n_trees=10, max_depth=5, max_features=None):\n",
    "        self.n_trees = n_trees\n",
    "        self.max_depth = max_depth\n",
    "        self.max_features = max_features  # Number of random features to consider at each split\n",
    "        self.trees = []\n",
    "\n",
    "    def fit(self, X, y):\n",
    "        \"\"\"Train the random forest.\"\"\"\n",
    "        for _ in range(self.n_trees):\n",
    "            # Bootstrap sample: Sample with replacement\n",
    "            indices = np.random.choice(len(X), int(len(X)*0.02), replace=True)\n",
    "            X_sample, y_sample = X[indices], y[indices]\n",
    "            # Train a decision tree on the sample\n",
    "            tree = build_tree(X_sample, y_sample, max_depth=self.max_depth)\n",
    "            self.trees.append(tree)\n",
    "\n",
    "    def predict(self, X):\n",
    "        \"\"\"Predict by averaging predictions from all trees.\"\"\"\n",
    "        # predictions = np.array([predict_tree(tree, x) for tree in self.trees for x in X])\n",
    "        tree_preds = np.array([predict_tree(tree, X) for tree in self.trees])\n",
    "        return np.mean(tree_preds, axis=0)\n",
    "        # return predictions.reshape(self.n_trees, len(X)).mean(axis=0)\n"
   ]
  },
  {
   "cell_type": "code",
   "execution_count": 25,
   "id": "57c92d4f-57fa-4f8d-b3b0-f95448ed4c0d",
   "metadata": {},
   "outputs": [],
   "source": [
    "# load pre-processed data\n",
    "import os\n",
    "data_folder_fp = \"data_folder\"\n",
    "raw_data_fp = os.path.join(data_folder_fp, \"numpy_data.pt\")\n",
    "(X_train, X_val, X_test, y_train, y_val, y_test) = torch.load(raw_data_fp, weights_only=False)"
   ]
  },
  {
   "cell_type": "code",
   "execution_count": 26,
   "id": "db763a4f-e38b-4496-8980-de618b2e989c",
   "metadata": {},
   "outputs": [
    {
     "name": "stdout",
     "output_type": "stream",
     "text": [
      "(58271, 671) (58271,)\n",
      "<class 'numpy.ndarray'>\n",
      "<class 'numpy.ndarray'>\n"
     ]
    }
   ],
   "source": [
    "print(X_train.shape, y_train.shape)\n",
    "print(type(X_train))\n",
    "print(type(y_train))"
   ]
  },
  {
   "cell_type": "code",
   "execution_count": 27,
   "id": "d5248d9f-9035-4b02-80f9-3e02a5b52c23",
   "metadata": {},
   "outputs": [],
   "source": [
    "# X_train = X_train.to_numpy()  # Convert pandas DataFrame to NumPy array\n",
    "# y_train = y_train.to_numpy()  # Convert pandas Series to NumPy array"
   ]
  },
  {
   "cell_type": "code",
   "execution_count": 28,
   "id": "5337c6ef-ebe5-44ec-8baf-b9f36501f637",
   "metadata": {},
   "outputs": [],
   "source": [
    "rf = RandomForest(n_trees=10, max_depth=5)"
   ]
  },
  {
   "cell_type": "code",
   "execution_count": 42,
   "id": "6e773e65-e724-402c-bdb9-b9143c84aa8a",
   "metadata": {},
   "outputs": [],
   "source": [
    "import matplotlib.pyplot as plt\n",
    "def visualization(train_mse, val_mse, model_title=\"\", image_fp=\"\",test_loss=0.0):\n",
    "    plt.figure(figsize=(10, 6))\n",
    "    plt.plot(range(1, len(train_mse) + 1), train_mse, label='Train MSE')\n",
    "    plt.plot(range(1, len(val_mse) + 1), val_mse, label='Validation MSE')\n",
    "    plt.xlabel('Epochs')\n",
    "    plt.ylabel('MSE')\n",
    "    plt.title(f'Train vs Validation Loss -- {model_title} -- test_loss={test_loss}')\n",
    "    plt.legend()\n",
    "    plt.grid(True)\n",
    "    \n",
    "    plt.savefig(image_fp)\n",
    "    plt.show()"
   ]
  },
  {
   "cell_type": "code",
   "execution_count": 40,
   "id": "215f147e-b70d-4a2a-b145-b89b88c00231",
   "metadata": {},
   "outputs": [],
   "source": [
    "def train_rt(X_train, \n",
    "             y_train, \n",
    "             X_val, \n",
    "             y_val,\n",
    "             X_test,\n",
    "             y_test,\n",
    "             n_trees=10, \n",
    "             max_depth =5,  \n",
    "             num_epochs=20,\n",
    "             model_folder=\"models/random_forest\",\n",
    "             image_folder=\"images/random_forest\"):\n",
    "    # build rf tree\n",
    "    rf = RandomForest(n_trees=n_trees, max_depth=max_depth)\n",
    "    train_mse = []\n",
    "    val_mse = []\n",
    "    min_val_mse = float('inf')\n",
    "    # Training loop for Random Forest\n",
    "    os.makedirs(model_folder, exist_ok=True)\n",
    "    os.makedirs(image_folder, exist_ok=True)\n",
    "    model_fp = os.path.join(model_folder, f\"{n_trees}_{max_depth}_{num_epochs}.pth\")\n",
    "    image_fp = os.path.join(image_folder, f\"{n_trees}_{max_depth}_{num_epochs}.jpg\")\n",
    "    \n",
    "    for epoch in range(num_epochs):  # Use the number of trees as epochs\n",
    "        # Train one tree (or more if implementing incremental addition)\n",
    "        rf.fit(X_train, y_train)\n",
    "        # Predictions on train and validation sets\n",
    "        y_train_pred = rf.predict(X_train)\n",
    "        y_val_pred = rf.predict(X_val)\n",
    "        \n",
    "        # Calculate train and validation MSE\n",
    "        train_loss = mse_pred_gt(y_train, y_train_pred)\n",
    "        val_loss = mse_pred_gt(y_val, y_val_pred)\n",
    "        \n",
    "        # Append losses to lists\n",
    "        train_mse.append(train_loss)\n",
    "        val_mse.append(val_loss)\n",
    "        \n",
    "        # Print progress\n",
    "        print(f\"Epoch {epoch+1}: Train MSE = {train_loss:.4f}, Val MSE = {val_loss:.4f}\")\n",
    "\n",
    "        # save checkpoint\n",
    "        if val_loss < min_val_mse:\n",
    "            min_val_mse = val_loss\n",
    "            torch.save(rf, model_fp)\n",
    "\n",
    "    # test on the best model for this config\n",
    "    best_rf = torch.load(model_fp, weights_only=False)\n",
    "    y_test_pred = best_rf.predict(X_test)\n",
    "    test_mse = mse_pred_gt(y_test, y_test_pred)\n",
    "\n",
    "    visualization(train_mse, \n",
    "                  val_mse, \n",
    "                  model_title=f\"{n_trees}_{max_depth}_{num_epochs}\", \n",
    "                  image_fp=image_fp,\n",
    "                  test_loss=test_mse)\n",
    "    return train_mse, val_mse, test_mse"
   ]
  },
  {
   "cell_type": "code",
   "execution_count": 45,
   "id": "2ce24b7a-4aaa-4afa-ba18-0be09e83aab5",
   "metadata": {},
   "outputs": [
    {
     "name": "stdout",
     "output_type": "stream",
     "text": [
      "Epoch 1: Train MSE = 18778.5303, Val MSE = 19639.6209\n",
      "Epoch 2: Train MSE = 18005.9446, Val MSE = 18944.9201\n",
      "Epoch 3: Train MSE = 17955.5939, Val MSE = 18859.9026\n",
      "Epoch 4: Train MSE = 17754.5766, Val MSE = 18683.0167\n",
      "Epoch 5: Train MSE = 17918.7853, Val MSE = 18842.1022\n",
      "Epoch 6: Train MSE = 18151.0661, Val MSE = 19070.6172\n",
      "Epoch 7: Train MSE = 18195.0007, Val MSE = 19099.9954\n",
      "Epoch 8: Train MSE = 18211.2783, Val MSE = 19120.2756\n",
      "Epoch 9: Train MSE = 18217.2131, Val MSE = 19134.6332\n",
      "Epoch 10: Train MSE = 18257.4421, Val MSE = 19140.6776\n"
     ]
    },
    {
     "data": {
      "image/png": "[encoded data removed]",
      "text/plain": [
       "<Figure size 1000x600 with 1 Axes>"
      ]
     },
     "metadata": {},
     "output_type": "display_data"
    },
    {
     "name": "stdout",
     "output_type": "stream",
     "text": [
      "Training duration = 317.17924404144287\n"
     ]
    }
   ],
   "source": [
    "os.makedirs(\"models\", exist_ok=True)\n",
    "os.makedirs(\"images\", exist_ok=True)\n",
    "\n",
    "model_folder=\"models/random_forest\"\n",
    "image_folder=\"images/random_forest\"\n",
    "import time\n",
    "start_time = time.time()\n",
    "train_mse, val_mse, test_mse = train_rt(X_train, y_train, \n",
    "             X_val, \n",
    "             y_val,\n",
    "             X_test,\n",
    "             y_test,\n",
    "             n_trees=10, \n",
    "             max_depth=5,  \n",
    "             num_epochs=10,\n",
    "             model_folder=model_folder,\n",
    "             image_folder=image_folder)\n",
    "duration = time.time() - start_time\n",
    "print(f\"Training duration = {duration}\")"
   ]
  },
  {
   "cell_type": "code",
   "execution_count": null,
   "id": "6755945a-f21a-406b-a779-1f3a9860286e",
   "metadata": {},
   "outputs": [],
   "source": []
  },
  {
   "cell_type": "code",
   "execution_count": 57,
   "id": "fada96bc-97ee-4492-833d-8a59cee7daa3",
   "metadata": {},
   "outputs": [],
   "source": [
    "def demo_rf_price(rf_model_fp, data_sample, categorical_features, numerical_features, encoder, scaler):\n",
    "    \"\"\"\n",
    "    Predict the sale price using a trained Random Forest model.\n",
    "\n",
    "    Parameters:\n",
    "        rf_model (RandomForest): Trained Random Forest model.\n",
    "        data_sample (dict): New sample data as a dictionary.\n",
    "        categorical_features (list): List of categorical feature names.\n",
    "        numerical_features (list): List of numerical feature names.\n",
    "        encoder (CustomOneHotEncoder): Fitted one-hot encoder for categorical features.\n",
    "        scaler (CustomStandardScaler): Fitted standard scaler for numerical features.\n",
    "    \"\"\"\n",
    "    # Convert the sample data to a DataFrame\n",
    "    data_sample_df = pd.DataFrame(data_sample)\n",
    "\n",
    "    # Apply one-hot encoding to categorical columns\n",
    "    new_data_cat = encoder.transform(data_sample_df[categorical_features])\n",
    "    \n",
    "    # Scale numerical columns\n",
    "    new_data_num = scaler.transform(data_sample_df[numerical_features])\n",
    "    \n",
    "    # Combine processed numerical and categorical features\n",
    "    new_data_processed = np.hstack([new_data_num, new_data_cat])\n",
    "\n",
    "    rf_model = torch.load(rf_model_fp, weights_only=False)\n",
    "    # Predict sale price using the Random Forest model\n",
    "    predicted_price = rf_model.predict(new_data_processed)\n",
    "\n",
    "    # Print the predicted sale price\n",
    "    print(f\"Predicted Sale Price: {predicted_price[0]:.2f}\")\n"
   ]
  },
  {
   "cell_type": "code",
   "execution_count": null,
   "id": "6b715264-3db3-461d-b051-cf60dc926b9c",
   "metadata": {},
   "outputs": [],
   "source": []
  },
  {
   "cell_type": "code",
   "execution_count": 58,
   "id": "c895ad2a-d52f-4cd3-ab91-b14356527646",
   "metadata": {},
   "outputs": [
    {
     "name": "stdout",
     "output_type": "stream",
     "text": [
      "Predicted Sale Price: 584.09\n"
     ]
    }
   ],
   "source": [
    "best_model_fp = \"models/random_forest/10_5_10.pth\"\n",
    "# best_model_fp = \"training_mae_2000.pt\"\n",
    "categorical_features = ['Order Date', 'Brand', 'Sneaker Name', 'Release Date', 'Buyer Region']\n",
    "numerical_features = ['Retail Price', 'Shoe Size']\n",
    "\n",
    "new_data = {\n",
    "    'Order Date': ['2022-01-01'],\n",
    "    'Brand': ['Yeezy'],\n",
    "    'Sneaker Name': ['Adidas-Yeezy-Boost-350-V2-Core-Black-Red'],\n",
    "    'Retail Price': [220],\n",
    "    'Release Date': ['2018-02-11'],\n",
    "    'Shoe Size': [11.0],\n",
    "    'Buyer Region': ['California']\n",
    "}\n",
    "from utils import CustomOneHotEncoder, StandardScaler\n",
    "\n",
    "encoder_scaler_fp = os.path.join(data_folder_fp, \"encoder_scaler.pt\")\n",
    "encoder, scaler = torch.load(encoder_scaler_fp, weights_only=False)\n",
    "demo_rf_price(best_model_fp, new_data, categorical_features, numerical_features, encoder, scaler)"
   ]
  }
 ],
 "metadata": {
  "kernelspec": {
   "display_name": "Python 3 (ipykernel)",
   "language": "python",
   "name": "python3"
  },
  "language_info": {
   "codemirror_mode": {
    "name": "ipython",
    "version": 3
   },
   "file_extension": ".py",
   "mimetype": "text/x-python",
   "name": "python",
   "nbconvert_exporter": "python",
   "pygments_lexer": "ipython3",
   "version": "3.9.20"
  }
 },
 "nbformat": 4,
 "nbformat_minor": 5
}
